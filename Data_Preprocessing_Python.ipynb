{
  "cells": [
    {
      "cell_type": "markdown",
      "metadata": {
        "id": "view-in-github",
        "colab_type": "text"
      },
      "source": [
        "<a href=\"https://colab.research.google.com/github/gnanatejadiviti/Machine_learning_Udemy/blob/main/Data_Preprocessing_Python.ipynb\" target=\"_parent\"><img src=\"https://colab.research.google.com/assets/colab-badge.svg\" alt=\"Open In Colab\"/></a>"
      ]
    },
    {
      "cell_type": "markdown",
      "source": [
        "# Data Preprocessing in Python"
      ],
      "metadata": {
        "id": "dKir4E1PW0Jg"
      }
    },
    {
      "cell_type": "markdown",
      "source": [
        "### Data Preprocessing Tools"
      ],
      "metadata": {
        "id": "4mGwFCVtXPv2"
      }
    },
    {
      "cell_type": "markdown",
      "source": [
        "Importing Libraries"
      ],
      "metadata": {
        "id": "KNCZOwvtVw1G"
      }
    },
    {
      "cell_type": "markdown",
      "source": [
        "Importing Dataset"
      ],
      "metadata": {
        "id": "i7WL7BowV8uP"
      }
    },
    {
      "cell_type": "markdown",
      "source": [
        "Taking care of missing data"
      ],
      "metadata": {
        "id": "WgiBD-GuWBNp"
      }
    },
    {
      "cell_type": "markdown",
      "source": [
        "### Encoding categorical Data"
      ],
      "metadata": {
        "id": "FY9tuWo-XcjG"
      }
    },
    {
      "cell_type": "markdown",
      "source": [
        "Encoding the independent variable"
      ],
      "metadata": {
        "id": "R3x0tw6HWQWA"
      }
    },
    {
      "cell_type": "markdown",
      "source": [
        "Encoding dependent variable"
      ],
      "metadata": {
        "id": "wwcj_T2sWW_j"
      }
    },
    {
      "cell_type": "markdown",
      "source": [
        "Splitting Data into Training and Testing set"
      ],
      "metadata": {
        "id": "UuPZITkXWf5L"
      }
    },
    {
      "cell_type": "markdown",
      "source": [
        "Feature Scaling"
      ],
      "metadata": {
        "id": "KqN8jSOqWnA6"
      }
    },
    {
      "cell_type": "code",
      "source": [],
      "metadata": {
        "id": "TKKQ1aOwWAOu"
      },
      "execution_count": null,
      "outputs": []
    }
  ],
  "metadata": {
    "colab": {
      "name": "Welcome To Colab",
      "toc_visible": true,
      "provenance": [],
      "include_colab_link": true
    },
    "kernelspec": {
      "display_name": "Python 3",
      "name": "python3"
    }
  },
  "nbformat": 4,
  "nbformat_minor": 0
}